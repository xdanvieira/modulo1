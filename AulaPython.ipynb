{
  "nbformat": 4,
  "nbformat_minor": 0,
  "metadata": {
    "colab": {
      "provenance": []
    },
    "kernelspec": {
      "name": "python3",
      "display_name": "Python 3"
    },
    "language_info": {
      "name": "python"
    }
  },
  "cells": [
    {
      "cell_type": "code",
      "execution_count": null,
      "metadata": {
        "id": "MTIqucU8H8Nb"
      },
      "outputs": [],
      "source": [
        "# prompt: create map of country Bahia\n",
        "\n",
        "import folium\n",
        "\n",
        "# Create a map centered on Bahia, Brazil\n",
        "bahia_map = folium.Map(location=[-13.00, -41.71], zoom_start=6)\n",
        "\n",
        "# Add a marker for Salvador, the capital of Bahia\n",
        "folium.Marker(\n",
        "    location=[-12.97, -38.50],\n",
        "    popup=\"Salvador\",\n",
        "    tooltip=\"Capital of Bahia\"\n",
        ").add_to(bahia_map)\n",
        "\n",
        "# Display the map\n",
        "bahia_map\n"
      ]
    }
  ]
}